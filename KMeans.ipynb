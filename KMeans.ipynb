{
 "cells": [
  {
   "cell_type": "code",
   "execution_count": 1,
   "id": "d8fede9d",
   "metadata": {},
   "outputs": [],
   "source": [
    "import random\n",
    "import pandas as pd\n",
    "import numpy as np\n",
    "import matplotlib.pyplot as plt"
   ]
  },
  {
   "cell_type": "code",
   "execution_count": 2,
   "id": "921bb8b3",
   "metadata": {},
   "outputs": [],
   "source": [
    "data = pd.read_csv('weatherAUS.csv')\n",
    "data.drop('Date',axis = 1 ,inplace = True)\n",
    "data.drop('Location',axis = 1 ,inplace = True)\n",
    "data.drop('WindGustDir' ,axis =1, inplace=True)\n",
    "data.drop('WindDir3pm' ,axis =1, inplace=True)\n",
    "data.drop('WindDir9am' ,axis =1, inplace=True)\n",
    "data.replace('Yes',1,inplace=True)\n",
    "data.replace('No',0,inplace=True)\n",
    "data.fillna(0,inplace = True)\n",
    "data = (data - data.mean())/data.std()  #scaling\n"
   ]
  },
  {
   "cell_type": "code",
   "execution_count": 6,
   "id": "54fb65f2",
   "metadata": {},
   "outputs": [
    {
     "name": "stdout",
     "output_type": "stream",
     "text": [
      "(145460,)\n"
     ]
    }
   ],
   "source": [
    "n_clusters = 4\n",
    "random_index = random.sample(range(0,data.shape[0]),n_clusters)\n",
    "centroids = data.iloc[random_index]\n",
    "\n",
    "for i in range(10):\n",
    "    cluster_group = assign_clusters(data,centroids)\n",
    "    old_centroids = centroids\n",
    "    centroids = move_centroids(data,cluster_group)\n",
    "    if (centroids == old_centroids).all:\n",
    "        break\n",
    "print(cluster_group.shape)"
   ]
  },
  {
   "cell_type": "code",
   "execution_count": 3,
   "id": "58b75ff1",
   "metadata": {},
   "outputs": [],
   "source": [
    "def assign_clusters(data,centroids):\n",
    "        cluster_group = []\n",
    "        distances = []\n",
    "        for index,row in data.iterrows():\n",
    "            for index,centroid in centroids.iterrows():\n",
    "                distances.append(np.sqrt(np.dot(row-centroid,row-centroid)))\n",
    "            min_distance = min(distances)\n",
    "            index_pos = distances.index(min_distance)\n",
    "            cluster_group.append(index_pos)\n",
    "            distances.clear()\n",
    "        return np.array(cluster_group)    "
   ]
  },
  {
   "cell_type": "code",
   "execution_count": 4,
   "id": "65bf92ad",
   "metadata": {},
   "outputs": [],
   "source": [
    "  def move_centroids(data,cluster_group):\n",
    "        new_centroids = []\n",
    "        cluster_type = np.unique(cluster_group)\n",
    "        for type in cluster_type:\n",
    "            new_centroids.append(data[cluster_group == type].mean(axis=0))\n",
    "        return np.array(new_centroids)"
   ]
  },
  {
   "cell_type": "code",
   "execution_count": null,
   "id": "9cf409b7",
   "metadata": {},
   "outputs": [],
   "source": []
  },
  {
   "cell_type": "code",
   "execution_count": null,
   "id": "b1a50635",
   "metadata": {},
   "outputs": [],
   "source": []
  }
 ],
 "metadata": {
  "kernelspec": {
   "display_name": "Python 3 (ipykernel)",
   "language": "python",
   "name": "python3"
  },
  "language_info": {
   "codemirror_mode": {
    "name": "ipython",
    "version": 3
   },
   "file_extension": ".py",
   "mimetype": "text/x-python",
   "name": "python",
   "nbconvert_exporter": "python",
   "pygments_lexer": "ipython3",
   "version": "3.11.3"
  }
 },
 "nbformat": 4,
 "nbformat_minor": 5
}
