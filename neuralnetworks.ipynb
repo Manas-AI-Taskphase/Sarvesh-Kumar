{
 "cells": [
  {
   "cell_type": "code",
   "execution_count": 23,
   "id": "9b22cc33",
   "metadata": {},
   "outputs": [],
   "source": [
    "\n",
    "import numpy as np\n",
    "import pandas as pd\n",
    "import matplotlib.pyplot as plt\n",
    "\n"
   ]
  },
  {
   "cell_type": "code",
   "execution_count": 2,
   "id": "ac70de07",
   "metadata": {},
   "outputs": [],
   "source": [
    "train = pd.read_csv('train.csv')\n",
    "train = np.array(train)\n",
    "m, n = train.shape\n",
    "np.random.shuffle(train)\n",
    "x_train = train[:, 1:]\n",
    "x_train = x_train / 255\n",
    "x_train = x_train.T\n",
    "y_train = train[:, 0]\n",
    "y_train = y_train.T"
   ]
  },
  {
   "cell_type": "code",
   "execution_count": 3,
   "id": "0a10fc3e",
   "metadata": {},
   "outputs": [],
   "source": [
    "\n",
    "test = pd.read_csv('test.csv')\n",
    "test = np.array(test)\n",
    "x_test = test[:, 1:]\n",
    "y_test = test[:, 0]\n",
    "x_test = x_test / 255\n",
    "x_test = x_test.T\n",
    "y_test = y_test.T"
   ]
  },
  {
   "cell_type": "code",
   "execution_count": 4,
   "id": "64e40b00",
   "metadata": {},
   "outputs": [],
   "source": [
    "import numpy as np\n",
    "\n",
    "def init_params():\n",
    "    W1 = np.random.rand(10, 784) - 0.5\n",
    "    b1 = np.random.rand(10, 1) - 0.5\n",
    "    W2 = np.random.rand(10, 10) - 0.5\n",
    "    b2 = np.random.rand(10, 1) - 0.5\n",
    "    return W1, b1, W2, b2\n",
    "\n",
    "def ReLU(Z):\n",
    "    return np.maximum(Z, 0)\n",
    "\n",
    "def softmax(Z):\n",
    "    exp = np.exp(Z - Z.max())\n",
    "    return exp / np.sum(exp, axis=0)\n",
    "\n",
    "def cross_entropy_loss(A2, Y):\n",
    "    loss = np.mean(-np.sum(np.log(A2[Y, np.arange(m)])))\n",
    "    return loss\n",
    "\n",
    "def forward_prop(W1, b1, W2, b2, X):\n",
    "    Z1 = W1.dot(X) + b1\n",
    "    A1 = ReLU(Z1)\n",
    "    Z2 = W2.dot(A1) + b2\n",
    "    A2 = softmax(Z2)\n",
    "    return Z1, A1, Z2, A2\n",
    "\n",
    "def ReLU_deriv(Z):\n",
    "    return Z > 0\n",
    "\n",
    "def one_hot(Y):\n",
    "    one_hot_Y = np.zeros((Y.size, Y.max() + 1))\n",
    "    one_hot_Y[np.arange(Y.size), Y] = 1\n",
    "    one_hot_Y = one_hot_Y.T\n",
    "    return one_hot_Y\n",
    "\n",
    "def backward_prop(Z1, A1, Z2, A2, W1, W2, X, Y):\n",
    "    one_hot_Y = one_hot(Y)\n",
    "    m = Y.shape[0]\n",
    "    \n",
    "    dZ2 = A2 - one_hot_Y\n",
    "    dW2 = 1 / m * dZ2.dot(A1.T)\n",
    "    db2 = 1 / m * np.sum(dZ2, axis=1, keepdims=True)\n",
    "    \n",
    "    dZ1 = W2.T.dot(dZ2) * ReLU_deriv(Z1)\n",
    "    dW1 = 1 / m * dZ1.dot(X.T)\n",
    "    db1 = 1 / m * np.sum(dZ1, axis=1, keepdims=True)\n",
    "    \n",
    "    return dW1, db1, dW2, db2\n",
    "\n",
    "def update_params(W1, b1, W2, b2, dW1, db1, dW2, db2, alpha):\n",
    "    W1 = W1 - alpha * dW1\n",
    "    b1 = b1 - alpha * db1\n",
    "    W2 = W2 - alpha * dW2\n",
    "    b2 = b2 - alpha * db2\n",
    "    return W1, b1, W2, b2\n",
    "\n",
    "def get_predictions(A2):\n",
    "    return np.argmax(A2, axis=0)\n",
    "\n",
    "def get_accuracy(predictions, Y):\n",
    "    return np.sum(predictions == Y) / Y.size\n",
    "\n",
    "def gradient_descent(X, Y, initial_alpha, iterations):\n",
    "    W1, b1, W2, b2 = init_params()\n",
    "    alpha = initial_alpha\n",
    "    \n",
    "    for i in range(iterations):\n",
    "        Z1, A1, Z2, A2 = forward_prop(W1, b1, W2, b2, X)\n",
    "        loss = cross_entropy_loss(A2, Y)\n",
    "        dW1, db1, dW2, db2 = backward_prop(Z1, A1, Z2, A2, W1, W2, X, Y)\n",
    "        W1, b1, W2, b2 = update_params(W1, b1, W2, b2, dW1, db1, dW2, db2, alpha)\n",
    "        \n",
    "        if i % 1000 == 0:\n",
    "            predictions = get_predictions(A2)\n",
    "            accuracy = get_accuracy(predictions, Y)\n",
    "            print(f\"Iteration: {i}, Loss: {loss}, Accuracy: {accuracy}\")\n",
    "        \n",
    "\n",
    "        alpha = initial_alpha / (1 + i * 0.001)\n",
    "    \n",
    "    return W1, b1, W2, b2\n",
    "\n"
   ]
  },
  {
   "cell_type": "code",
   "execution_count": 8,
   "id": "77fecda4",
   "metadata": {},
   "outputs": [
    {
     "name": "stdout",
     "output_type": "stream",
     "text": [
      "Iteration: 0, Loss: 27648.980400740315, Accuracy: 0.10425\n",
      "Iteration: 1000, Loss: 18398.32337125889, Accuracy: 0.105\n",
      "Iteration: 2000, Loss: 18289.289789785733, Accuracy: 0.1105\n",
      "Iteration: 3000, Loss: 18100.22738229465, Accuracy: 0.15275\n",
      "Iteration: 4000, Loss: 17902.526459086723, Accuracy: 0.162625\n",
      "Iteration: 5000, Loss: 17755.491123204825, Accuracy: 0.169125\n",
      "Iteration: 6000, Loss: 17631.6074158122, Accuracy: 0.180375\n",
      "Iteration: 7000, Loss: 17540.727427606005, Accuracy: 0.1835\n",
      "Iteration: 8000, Loss: 17477.141726172493, Accuracy: 0.188625\n",
      "Iteration: 9000, Loss: 17429.416964718763, Accuracy: 0.193625\n",
      "Iteration: 10000, Loss: 17391.8297413427, Accuracy: 0.193875\n",
      "Iteration: 11000, Loss: 17359.530003039836, Accuracy: 0.195125\n",
      "Iteration: 12000, Loss: 17332.43874914864, Accuracy: 0.198\n",
      "Iteration: 13000, Loss: 17307.51989561232, Accuracy: 0.19875\n",
      "Iteration: 14000, Loss: 17284.881922402466, Accuracy: 0.197375\n",
      "Iteration: 15000, Loss: 17265.1027770976, Accuracy: 0.199875\n",
      "Iteration: 16000, Loss: 17246.09703393256, Accuracy: 0.200375\n",
      "Iteration: 17000, Loss: 17223.605252690162, Accuracy: 0.200875\n",
      "Iteration: 18000, Loss: 17200.08746017645, Accuracy: 0.20325\n",
      "Iteration: 19000, Loss: 17179.776036870986, Accuracy: 0.204625\n",
      "Iteration: 20000, Loss: 17162.44854818988, Accuracy: 0.20625\n",
      "Iteration: 21000, Loss: 17146.440864745662, Accuracy: 0.207875\n",
      "Iteration: 22000, Loss: 17131.12242387762, Accuracy: 0.20725\n",
      "Iteration: 23000, Loss: 17116.409492468978, Accuracy: 0.209\n",
      "Iteration: 24000, Loss: 17102.22684105584, Accuracy: 0.210875\n",
      "Iteration: 25000, Loss: 17088.93123818924, Accuracy: 0.211875\n",
      "Iteration: 26000, Loss: 17076.557120279344, Accuracy: 0.211625\n",
      "Iteration: 27000, Loss: 17064.965745334368, Accuracy: 0.211625\n",
      "Iteration: 28000, Loss: 17054.08916982886, Accuracy: 0.212375\n",
      "Iteration: 29000, Loss: 17043.667461613004, Accuracy: 0.213375\n",
      "Iteration: 30000, Loss: 17033.0768425336, Accuracy: 0.21475\n",
      "Iteration: 31000, Loss: 17023.196106207375, Accuracy: 0.21525\n",
      "Iteration: 32000, Loss: 17013.84071126071, Accuracy: 0.215\n",
      "Iteration: 33000, Loss: 17004.607158519255, Accuracy: 0.21625\n",
      "Iteration: 34000, Loss: 16995.759351555767, Accuracy: 0.217125\n",
      "Iteration: 35000, Loss: 16987.220581504727, Accuracy: 0.218\n",
      "Iteration: 36000, Loss: 16978.950468582276, Accuracy: 0.218375\n",
      "Iteration: 37000, Loss: 16971.006540357877, Accuracy: 0.218\n",
      "Iteration: 38000, Loss: 16963.312880370468, Accuracy: 0.21825\n",
      "Iteration: 39000, Loss: 16955.65112346731, Accuracy: 0.21875\n",
      "Iteration: 40000, Loss: 16948.317029049038, Accuracy: 0.220125\n",
      "Iteration: 41000, Loss: 16941.239742815633, Accuracy: 0.220875\n",
      "Iteration: 42000, Loss: 16934.37201391539, Accuracy: 0.221125\n",
      "Iteration: 43000, Loss: 16927.650061078668, Accuracy: 0.221625\n",
      "Iteration: 44000, Loss: 16921.107996681858, Accuracy: 0.222125\n",
      "Iteration: 45000, Loss: 16914.70176205175, Accuracy: 0.222875\n",
      "Iteration: 46000, Loss: 16908.37302271371, Accuracy: 0.223125\n",
      "Iteration: 47000, Loss: 16901.95530810249, Accuracy: 0.2235\n",
      "Iteration: 48000, Loss: 16895.684727567754, Accuracy: 0.2235\n",
      "Iteration: 49000, Loss: 16889.5637431149, Accuracy: 0.22375\n"
     ]
    }
   ],
   "source": [
    "\n",
    "W1, b1, W2, b2 = gradient_descent(x_train, y_train, 0.1, 50000)"
   ]
  },
  {
   "cell_type": "code",
   "execution_count": 32,
   "id": "cf55a44e",
   "metadata": {},
   "outputs": [],
   "source": [
    "def make_predictions(X, W1, b1, W2, b2):\n",
    "    _, _, _, A2 = forward_prop(W1, b1, W2, b2, X)\n",
    "    predictions = get_predictions(A2)\n",
    "    return predictions\n",
    "\n",
    "    \n",
    "def test_prediction(index, W1, b1, W2, b2):    \n",
    "    map = {\n",
    "        0: 'bart simpson',\n",
    "        1: 'charles montgomery_burns',\n",
    "        2: 'homer simpson',\n",
    "        3: 'krusty the clown',\n",
    "        4: 'lisa simpson',\n",
    "        5: 'marge simpson',\n",
    "        6: 'milhouse van houten',\n",
    "        7: 'moe szyslak',\n",
    "        8: 'ned flanders',\n",
    "        9: 'principal skinner'\n",
    "    }\n",
    "    \n",
    "    current_image =x_test[:, index, None]\n",
    "    prediction = make_predictions(x_test[:, index, None], W1, b1, W2, b2)\n",
    "    label = y_test[index]\n",
    "    print(\"Prediction: \",map[prediction[0]])\n",
    "    print(\"Label: \", map[label])\n",
    "    current_image = current_image.reshape((28, 28)) * 255\n",
    "    plt.gray()\n",
    "    plt.imshow(current_image, interpolation='nearest')\n",
    "    plt.show()\n"
   ]
  },
  {
   "cell_type": "code",
   "execution_count": 37,
   "id": "709c4d43",
   "metadata": {},
   "outputs": [
    {
     "name": "stdout",
     "output_type": "stream",
     "text": [
      "Prediction:  marge simpson\n",
      "Label:  marge simpson\n"
     ]
    },
    {
     "data": {
      "image/png": "[encoded data removed]",
      "text/plain": [
       "<Figure size 640x480 with 1 Axes>"
      ]
     },
     "metadata": {},
     "output_type": "display_data"
    },
    {
     "name": "stdout",
     "output_type": "stream",
     "text": [
      "Prediction:  principal skinner\n",
      "Label:  charles montgomery_burns\n"
     ]
    },
    {
     "data": {
      "image/png": "[encoded data removed]",
      "text/plain": [
       "<Figure size 640x480 with 1 Axes>"
      ]
     },
     "metadata": {},
     "output_type": "display_data"
    },
    {
     "name": "stdout",
     "output_type": "stream",
     "text": [
      "Prediction:  moe szyslak\n",
      "Label:  bart simpson\n"
     ]
    },
    {
     "data": {
      "image/png": "[encoded data removed]",
      "text/plain": [
       "<Figure size 640x480 with 1 Axes>"
      ]
     },
     "metadata": {},
     "output_type": "display_data"
    },
    {
     "name": "stdout",
     "output_type": "stream",
     "text": [
      "Prediction:  ned flanders\n",
      "Label:  krusty the clown\n"
     ]
    },
    {
     "data": {
      "image/png": "[encoded data removed]",
      "text/plain": [
       "<Figure size 640x480 with 1 Axes>"
      ]
     },
     "metadata": {},
     "output_type": "display_data"
    }
   ],
   "source": [
    "\n",
    "test_prediction(1000,W1, b1, W2, b2)\n",
    "test_prediction(100, W1, b1, W2, b2)\n",
    "test_prediction(1500, W1, b1, W2, b2)\n",
    "test_prediction(800, W1, b1, W2, b2)"
   ]
  },
  {
   "cell_type": "code",
   "execution_count": null,
   "id": "28dafd4b",
   "metadata": {},
   "outputs": [],
   "source": []
  }
 ],
 "metadata": {
  "kernelspec": {
   "display_name": "Python 3 (ipykernel)",
   "language": "python",
   "name": "python3"
  },
  "language_info": {
   "codemirror_mode": {
    "name": "ipython",
    "version": 3
   },
   "file_extension": ".py",
   "mimetype": "text/x-python",
   "name": "python",
   "nbconvert_exporter": "python",
   "pygments_lexer": "ipython3",
   "version": "3.11.3"
  }
 },
 "nbformat": 4,
 "nbformat_minor": 5
}
