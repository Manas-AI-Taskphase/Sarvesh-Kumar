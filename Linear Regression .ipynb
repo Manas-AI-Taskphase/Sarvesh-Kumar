{
 "cells": [
  {
   "cell_type": "code",
   "execution_count": 3,
   "id": "f9162335",
   "metadata": {},
   "outputs": [
    {
     "name": "stdout",
     "output_type": "stream",
     "text": [
      "Cost is : 19608941954.06892\n",
      "Cost is : 1823565936.4879372\n",
      "Cost is : 1684378113.7331765\n",
      "Cost is : 1577262788.826465\n",
      "Cost is : 1494558906.4439476\n",
      "Cost is : 1430463561.8589582\n",
      "Cost is : 1380565961.9333205\n",
      "Cost is : 1341512390.2429926\n",
      "Cost is : 1310751925.2927365\n",
      "Cost is : 1286343432.7585678\n"
     ]
    },
    {
     "ename": "ValueError",
     "evalue": "x and y must have same first dimension, but have shapes (10000,) and (1000,)",
     "output_type": "error",
     "traceback": [
      "\u001b[0;31m---------------------------------------------------------------------------\u001b[0m",
      "\u001b[0;31mValueError\u001b[0m                                Traceback (most recent call last)",
      "Cell \u001b[0;32mIn[3], line 42\u001b[0m\n\u001b[1;32m     39\u001b[0m W, cost_list \u001b[38;5;241m=\u001b[39m regression(X, Y, alpha \u001b[38;5;241m=\u001b[39m\u001b[38;5;241m0.000000005\u001b[39m,iterations\u001b[38;5;241m=\u001b[39m\u001b[38;5;241m1000\u001b[39m)\n\u001b[1;32m     41\u001b[0m rng \u001b[38;5;241m=\u001b[39m np\u001b[38;5;241m.\u001b[39marange(\u001b[38;5;241m0\u001b[39m, iteration)\n\u001b[0;32m---> 42\u001b[0m plt\u001b[38;5;241m.\u001b[39mplot(rng, cost_list)\n\u001b[1;32m     43\u001b[0m plt\u001b[38;5;241m.\u001b[39mshow()\n",
      "File \u001b[0;32m~/anaconda3/lib/python3.11/site-packages/matplotlib/pyplot.py:2812\u001b[0m, in \u001b[0;36mplot\u001b[0;34m(scalex, scaley, data, *args, **kwargs)\u001b[0m\n\u001b[1;32m   2810\u001b[0m \u001b[38;5;129m@_copy_docstring_and_deprecators\u001b[39m(Axes\u001b[38;5;241m.\u001b[39mplot)\n\u001b[1;32m   2811\u001b[0m \u001b[38;5;28;01mdef\u001b[39;00m \u001b[38;5;21mplot\u001b[39m(\u001b[38;5;241m*\u001b[39margs, scalex\u001b[38;5;241m=\u001b[39m\u001b[38;5;28;01mTrue\u001b[39;00m, scaley\u001b[38;5;241m=\u001b[39m\u001b[38;5;28;01mTrue\u001b[39;00m, data\u001b[38;5;241m=\u001b[39m\u001b[38;5;28;01mNone\u001b[39;00m, \u001b[38;5;241m*\u001b[39m\u001b[38;5;241m*\u001b[39mkwargs):\n\u001b[0;32m-> 2812\u001b[0m     \u001b[38;5;28;01mreturn\u001b[39;00m gca()\u001b[38;5;241m.\u001b[39mplot(\n\u001b[1;32m   2813\u001b[0m         \u001b[38;5;241m*\u001b[39margs, scalex\u001b[38;5;241m=\u001b[39mscalex, scaley\u001b[38;5;241m=\u001b[39mscaley,\n\u001b[1;32m   2814\u001b[0m         \u001b[38;5;241m*\u001b[39m\u001b[38;5;241m*\u001b[39m({\u001b[38;5;124m\"\u001b[39m\u001b[38;5;124mdata\u001b[39m\u001b[38;5;124m\"\u001b[39m: data} \u001b[38;5;28;01mif\u001b[39;00m data \u001b[38;5;129;01mis\u001b[39;00m \u001b[38;5;129;01mnot\u001b[39;00m \u001b[38;5;28;01mNone\u001b[39;00m \u001b[38;5;28;01melse\u001b[39;00m {}), \u001b[38;5;241m*\u001b[39m\u001b[38;5;241m*\u001b[39mkwargs)\n",
      "File \u001b[0;32m~/anaconda3/lib/python3.11/site-packages/matplotlib/axes/_axes.py:1688\u001b[0m, in \u001b[0;36mAxes.plot\u001b[0;34m(self, scalex, scaley, data, *args, **kwargs)\u001b[0m\n\u001b[1;32m   1445\u001b[0m \u001b[38;5;250m\u001b[39m\u001b[38;5;124;03m\"\"\"\u001b[39;00m\n\u001b[1;32m   1446\u001b[0m \u001b[38;5;124;03mPlot y versus x as lines and/or markers.\u001b[39;00m\n\u001b[1;32m   1447\u001b[0m \n\u001b[0;32m   (...)\u001b[0m\n\u001b[1;32m   1685\u001b[0m \u001b[38;5;124;03m(``'green'``) or hex strings (``'#008000'``).\u001b[39;00m\n\u001b[1;32m   1686\u001b[0m \u001b[38;5;124;03m\"\"\"\u001b[39;00m\n\u001b[1;32m   1687\u001b[0m kwargs \u001b[38;5;241m=\u001b[39m cbook\u001b[38;5;241m.\u001b[39mnormalize_kwargs(kwargs, mlines\u001b[38;5;241m.\u001b[39mLine2D)\n\u001b[0;32m-> 1688\u001b[0m lines \u001b[38;5;241m=\u001b[39m [\u001b[38;5;241m*\u001b[39m\u001b[38;5;28mself\u001b[39m\u001b[38;5;241m.\u001b[39m_get_lines(\u001b[38;5;241m*\u001b[39margs, data\u001b[38;5;241m=\u001b[39mdata, \u001b[38;5;241m*\u001b[39m\u001b[38;5;241m*\u001b[39mkwargs)]\n\u001b[1;32m   1689\u001b[0m \u001b[38;5;28;01mfor\u001b[39;00m line \u001b[38;5;129;01min\u001b[39;00m lines:\n\u001b[1;32m   1690\u001b[0m     \u001b[38;5;28mself\u001b[39m\u001b[38;5;241m.\u001b[39madd_line(line)\n",
      "File \u001b[0;32m~/anaconda3/lib/python3.11/site-packages/matplotlib/axes/_base.py:311\u001b[0m, in \u001b[0;36m_process_plot_var_args.__call__\u001b[0;34m(self, data, *args, **kwargs)\u001b[0m\n\u001b[1;32m    309\u001b[0m     this \u001b[38;5;241m+\u001b[39m\u001b[38;5;241m=\u001b[39m args[\u001b[38;5;241m0\u001b[39m],\n\u001b[1;32m    310\u001b[0m     args \u001b[38;5;241m=\u001b[39m args[\u001b[38;5;241m1\u001b[39m:]\n\u001b[0;32m--> 311\u001b[0m \u001b[38;5;28;01myield from\u001b[39;00m \u001b[38;5;28mself\u001b[39m\u001b[38;5;241m.\u001b[39m_plot_args(\n\u001b[1;32m    312\u001b[0m     this, kwargs, ambiguous_fmt_datakey\u001b[38;5;241m=\u001b[39mambiguous_fmt_datakey)\n",
      "File \u001b[0;32m~/anaconda3/lib/python3.11/site-packages/matplotlib/axes/_base.py:504\u001b[0m, in \u001b[0;36m_process_plot_var_args._plot_args\u001b[0;34m(self, tup, kwargs, return_kwargs, ambiguous_fmt_datakey)\u001b[0m\n\u001b[1;32m    501\u001b[0m     \u001b[38;5;28mself\u001b[39m\u001b[38;5;241m.\u001b[39maxes\u001b[38;5;241m.\u001b[39myaxis\u001b[38;5;241m.\u001b[39mupdate_units(y)\n\u001b[1;32m    503\u001b[0m \u001b[38;5;28;01mif\u001b[39;00m x\u001b[38;5;241m.\u001b[39mshape[\u001b[38;5;241m0\u001b[39m] \u001b[38;5;241m!=\u001b[39m y\u001b[38;5;241m.\u001b[39mshape[\u001b[38;5;241m0\u001b[39m]:\n\u001b[0;32m--> 504\u001b[0m     \u001b[38;5;28;01mraise\u001b[39;00m \u001b[38;5;167;01mValueError\u001b[39;00m(\u001b[38;5;124mf\u001b[39m\u001b[38;5;124m\"\u001b[39m\u001b[38;5;124mx and y must have same first dimension, but \u001b[39m\u001b[38;5;124m\"\u001b[39m\n\u001b[1;32m    505\u001b[0m                      \u001b[38;5;124mf\u001b[39m\u001b[38;5;124m\"\u001b[39m\u001b[38;5;124mhave shapes \u001b[39m\u001b[38;5;132;01m{\u001b[39;00mx\u001b[38;5;241m.\u001b[39mshape\u001b[38;5;132;01m}\u001b[39;00m\u001b[38;5;124m and \u001b[39m\u001b[38;5;132;01m{\u001b[39;00my\u001b[38;5;241m.\u001b[39mshape\u001b[38;5;132;01m}\u001b[39;00m\u001b[38;5;124m\"\u001b[39m)\n\u001b[1;32m    506\u001b[0m \u001b[38;5;28;01mif\u001b[39;00m x\u001b[38;5;241m.\u001b[39mndim \u001b[38;5;241m>\u001b[39m \u001b[38;5;241m2\u001b[39m \u001b[38;5;129;01mor\u001b[39;00m y\u001b[38;5;241m.\u001b[39mndim \u001b[38;5;241m>\u001b[39m \u001b[38;5;241m2\u001b[39m:\n\u001b[1;32m    507\u001b[0m     \u001b[38;5;28;01mraise\u001b[39;00m \u001b[38;5;167;01mValueError\u001b[39;00m(\u001b[38;5;124mf\u001b[39m\u001b[38;5;124m\"\u001b[39m\u001b[38;5;124mx and y can be no greater than 2D, but have \u001b[39m\u001b[38;5;124m\"\u001b[39m\n\u001b[1;32m    508\u001b[0m                      \u001b[38;5;124mf\u001b[39m\u001b[38;5;124m\"\u001b[39m\u001b[38;5;124mshapes \u001b[39m\u001b[38;5;132;01m{\u001b[39;00mx\u001b[38;5;241m.\u001b[39mshape\u001b[38;5;132;01m}\u001b[39;00m\u001b[38;5;124m and \u001b[39m\u001b[38;5;132;01m{\u001b[39;00my\u001b[38;5;241m.\u001b[39mshape\u001b[38;5;132;01m}\u001b[39;00m\u001b[38;5;124m\"\u001b[39m)\n",
      "\u001b[0;31mValueError\u001b[0m: x and y must have same first dimension, but have shapes (10000,) and (1000,)"
     ]
    },
    {
     "data": {
      "image/png": "[encoded data removed]",
      "text/plain": [
       "<Figure size 640x480 with 1 Axes>"
      ]
     },
     "metadata": {},
     "output_type": "display_data"
    }
   ],
   "source": [
    "import pandas as pd\n",
    "import matplotlib.pyplot as plt\n",
    "import numpy as np\n",
    "\n",
    "\n",
    "train = pd.read_csv(\"train.csv\")\n",
    "test = pd.read_csv(\"test.csv\")\n",
    "train_data = train.values     #converts df to nparray\n",
    "Y = train_data[:, -1].reshape(train_data.shape[0], 1)   #reshape is used to make Y a column vector\n",
    "X = train_data[:, :-1]\n",
    "test_data = test.values\n",
    "Y_test = test_data[:, -1].reshape(test_data.shape[0], 1)\n",
    "X_test = test_data[:, :-1]\n",
    "X = np.vstack((np.ones((X.shape[0], )), X.T)).T      #to make sure w1*x1,w2*x2 and so on by adding a column of 1's\n",
    "X_test = np.vstack((np.ones((X_test.shape[0], )), X_test.T)).T\n",
    "\n",
    "def regression(X,Y,alpha,iterations):\n",
    "    m = Y.size\n",
    "    W = np.zeros((X.shape[1],1))\n",
    "    B = 0\n",
    "    cost_list = []\n",
    "\n",
    "    for i in range(iterations):\n",
    "        y_prediction= np.dot(X,W) + B\n",
    "        cost = (1/(2*m))*np.sum(np.square(y_prediction - Y))\n",
    "        W_slope = (1/m)*np.dot(X.T, y_prediction - Y)\n",
    "        B_slope = (1/m)*(y_prediction - Y)\n",
    "        W = W - alpha*W_slope\n",
    "        B = B - alpha*B_slope\n",
    "\n",
    "        cost_list.append(cost)\n",
    "        if (i %(iterations/ 10) == 0):\n",
    "            print(\"Cost is :\", cost)\n",
    "\n",
    "    return W,cost_list\n",
    "\n",
    "iteration = 10000\n",
    "alpha = 0.000000005\n",
    "W, cost_list = regression(X, Y, alpha =0.000000005,iterations=1000)\n",
    "\n",
    "rng = np.arange(0, iteration)\n",
    "plt.plot(rng, cost_list)\n",
    "plt.show()\n",
    "\n"
   ]
  },
  {
   "cell_type": "code",
   "execution_count": 4,
   "id": "94a9cbc6",
   "metadata": {},
   "outputs": [
    {
     "name": "stdout",
     "output_type": "stream",
     "text": [
      "0\n",
      "50\n",
      "100\n",
      "150\n",
      "200\n",
      "250\n",
      "300\n",
      "350\n",
      "400\n",
      "450\n"
     ]
    },
    {
     "ename": "TypeError",
     "evalue": "can't multiply sequence by non-int of type 'float'",
     "output_type": "error",
     "traceback": [
      "\u001b[0;31m---------------------------------------------------------------------------\u001b[0m",
      "\u001b[0;31mTypeError\u001b[0m                                 Traceback (most recent call last)",
      "Cell \u001b[0;32mIn[4], line 78\u001b[0m\n\u001b[1;32m     73\u001b[0m     costfn\u001b[38;5;241m.\u001b[39mappend(c)\n\u001b[1;32m     74\u001b[0m \u001b[38;5;66;03m#pl.scatter(y_found,range(1,len(data_train_df)+1), marker='x', c='r')\u001b[39;00m\n\u001b[1;32m     75\u001b[0m \u001b[38;5;66;03m#l.scatter(Y,range(1,len(data_train_df)+1))\u001b[39;00m\n\u001b[1;32m     76\u001b[0m \u001b[38;5;66;03m#print(Y)\u001b[39;00m\n\u001b[1;32m     77\u001b[0m \u001b[38;5;66;03m#pl.show()\u001b[39;00m\n\u001b[0;32m---> 78\u001b[0m y_found \u001b[38;5;241m=\u001b[39m y_found\u001b[38;5;241m*\u001b[39mY\u001b[38;5;241m.\u001b[39mstd()\u001b[38;5;241m/\u001b[39m\u001b[38;5;241m10\u001b[39m \u001b[38;5;241m+\u001b[39m Y\u001b[38;5;241m.\u001b[39mmean()\n\u001b[1;32m     80\u001b[0m pl\u001b[38;5;241m.\u001b[39mplot(\u001b[38;5;28mrange\u001b[39m(\u001b[38;5;241m1\u001b[39m,\u001b[38;5;241m501\u001b[39m),costfn)\n\u001b[1;32m     82\u001b[0m \u001b[38;5;28mprint\u001b[39m(w)\n",
      "\u001b[0;31mTypeError\u001b[0m: can't multiply sequence by non-int of type 'float'"
     ]
    }
   ],
   "source": [
    "import pandas as pd\n",
    "import numpy as np\n",
    "import matplotlib.pyplot as pl\n",
    "\n",
    "data_train_df = pd.read_csv('train.csv')\n",
    "X = data_train_df.drop(columns=['SalePrice'])\n",
    "\n",
    "Y = data_train_df['SalePrice']\n",
    "\n",
    "data_test_df = pd.read_csv('test.csv')\n",
    "\n",
    "def rescaling(data):\n",
    "    mean = data.mean()\n",
    "    std = data.std()\n",
    "    data = (data - mean)/std * 10\n",
    "    return data\n",
    "\n",
    "def scaling(data, mean, std):\n",
    "    data = data*std/10 + mean\n",
    "    return data\n",
    "\n",
    "def linear_regression(w, b, data, LRate,final):\n",
    "    m = len(data)\n",
    "\n",
    "    w_gradient = 0\n",
    "    b_gradient = 0\n",
    "    y_found = list()\n",
    "    costfn = 0\n",
    "\n",
    "    for index, row in data.iterrows():\n",
    "        y_hat = np.dot(w, row) + b\n",
    "        y_actual = rescaling(data_train_df['SalePrice'])[index]\n",
    "        error = round(y_hat - y_actual,5)\n",
    "        costfn += round((error**2)/(2*m),8)\n",
    "\n",
    "        w_gradient += round(error*row/m, 5)\n",
    "        b_gradient += round(error/m, 5)\n",
    "        if final == True:\n",
    "            y_found.append(y_hat*Y.std()/10 + Y.mean())\n",
    "\n",
    "    w = round(w - LRate*w_gradient,8)\n",
    "    b = round(b - LRate*b_gradient,8)\n",
    "    return w, b, costfn, y_found\n",
    "\n",
    "def CheckAccuracy(w, b, data):\n",
    "    x = data.drop(columns=['SalePrice'])\n",
    "    x = (x - X.mean())/X.std() * 10\n",
    "    y = data['SalePrice']\n",
    "    y = (y - Y.mean())/Y.std() * 10\n",
    "    score = 0\n",
    "    for index, row in x.iterrows():\n",
    "        y_hat = np.dot(w, row) + b\n",
    "        if y_hat == y[index]:\n",
    "            score += 1\n",
    "    score = score*100/len(data)\n",
    "    return score\n",
    "\n",
    "\n",
    "X = rescaling(X)\n",
    "\n",
    "w = np.zeros(X.shape[1])\n",
    "b = 0\n",
    "costfn = list()\n",
    "for i in range(500):\n",
    "    if i%50 == 0:\n",
    "        print(i)\n",
    "    if i==499:\n",
    "        f = True\n",
    "    else:\n",
    "        f = False\n",
    "    w,b,c,y_found = linear_regression(w,b, X, 0.0001,f)\n",
    "\n",
    "    costfn.append(c)\n",
    "#pl.scatter(y_found,range(1,len(data_train_df)+1), marker='x', c='r')\n",
    "#l.scatter(Y,range(1,len(data_train_df)+1))\n",
    "#print(Y)\n",
    "#pl.show()\n",
    "y_found = y_found*Y.std()/10 + Y.mean()\n",
    "\n",
    "pl.plot(range(1,501),costfn)\n",
    "\n",
    "print(w)\n",
    "print()\n",
    "print(b)\n",
    "\n",
    "score = CheckAccuracy(w, b, data_test_df)\n",
    "print(score)\n",
    "\n",
    "pl.show()\n"
   ]
  },
  {
   "cell_type": "code",
   "execution_count": 6,
   "id": "9c8f1c3e",
   "metadata": {},
   "outputs": [
    {
     "name": "stdout",
     "output_type": "stream",
     "text": [
      "Cost is : 19608941954.06892\n",
      "Cost is : 1823565936.4879372\n",
      "Cost is : 1684378113.7331765\n",
      "Cost is : 1577262788.826465\n",
      "Cost is : 1494558906.4439476\n",
      "Cost is : 1430463561.8589582\n",
      "Cost is : 1380565961.9333205\n",
      "Cost is : 1341512390.2429926\n",
      "Cost is : 1310751925.2927365\n",
      "Cost is : 1286343432.7585678\n"
     ]
    },
    {
     "data": {
      "image/png": "[encoded data removed]",
      "text/plain": [
       "<Figure size 640x480 with 1 Axes>"
      ]
     },
     "metadata": {},
     "output_type": "display_data"
    },
    {
     "name": "stdout",
     "output_type": "stream",
     "text": [
      "Test error is : 3370479.3481192784 %\n",
      "Test Accuracy is : -3370379.3481192784 %\n"
     ]
    }
   ],
   "source": [
    "import pandas as pd\n",
    "import matplotlib.pyplot as plt\n",
    "import numpy as np\n",
    "\n",
    "\n",
    "train = pd.read_csv(\"train.csv\")\n",
    "test = pd.read_csv(\"test.csv\")\n",
    "train_data = train.values     #converts df to nparray\n",
    "Y = train_data[:, -1].reshape(train_data.shape[0], 1)   #reshape is used to make Y a column vector\n",
    "X = train_data[:, :-1]\n",
    "test_data = test.values\n",
    "Y_test = test_data[:, -1].reshape(test_data.shape[0], 1)\n",
    "X_test = test_data[:, :-1]\n",
    "X = np.vstack((np.ones((X.shape[0], )), X.T)).T      #to make sure w1*x1,w2*x2 and so on by adding a column of 1's\n",
    "X_test = np.vstack((np.ones((X_test.shape[0], )), X_test.T)).T\n",
    "\n",
    "def regression(X,Y,alpha,iterations):\n",
    "    m = Y.size\n",
    "    W = np.zeros((X.shape[1],1))\n",
    "    B = 0\n",
    "    cost_list = []\n",
    "\n",
    "    for i in range(iterations):\n",
    "        y_prediction= np.dot(X,W) + B\n",
    "        cost = (1/(2*m))*np.sum(np.square(y_prediction - Y))\n",
    "        W_slope = (1/m)*np.dot(X.T, y_prediction - Y)\n",
    "        B_slope = (1/m)*(y_prediction - Y)\n",
    "        W = W - alpha*W_slope\n",
    "        B = B - alpha*B_slope\n",
    "\n",
    "        cost_list.append(cost)\n",
    "        if (i %(iterations/ 10) == 0):\n",
    "            print(\"Cost is :\", cost)\n",
    "\n",
    "    return W,cost_list\n",
    "\n",
    "iteration = 10000\n",
    "alpha = 0.000000005\n",
    "W, cost_list = regression(X, Y, alpha =0.000000005,iterations=1000)\n",
    "\n",
    "\n",
    "rng = np.arange(0, len(cost_list))\n",
    "plt.plot(rng, cost_list)\n",
    "plt.show()\n",
    "\n",
    "y_pred = np.dot(X_test, W)\n",
    "error = (1/X_test.shape[0])*np.sum(np.abs(y_pred - Y_test))\n",
    "print(\"Test error is :\", error*100, \"%\")\n",
    "print(\"Test Accuracy is :\", (1- error)*100, \"%\")"
   ]
  },
  {
   "cell_type": "code",
   "execution_count": null,
   "id": "9329084b",
   "metadata": {},
   "outputs": [],
   "source": []
  }
 ],
 "metadata": {
  "kernelspec": {
   "display_name": "Python 3 (ipykernel)",
   "language": "python",
   "name": "python3"
  },
  "language_info": {
   "codemirror_mode": {
    "name": "ipython",
    "version": 3
   },
   "file_extension": ".py",
   "mimetype": "text/x-python",
   "name": "python",
   "nbconvert_exporter": "python",
   "pygments_lexer": "ipython3",
   "version": "3.11.3"
  }
 },
 "nbformat": 4,
 "nbformat_minor": 5
}
