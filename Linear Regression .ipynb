{
 "cells": [
  {
   "cell_type": "code",
   "execution_count": 1,
   "id": "ccb3ae73",
   "metadata": {},
   "outputs": [],
   "source": [
    "import numpy as np\n",
    "import pandas as pd\n",
    "import matplotlib.pyplot as plt"
   ]
  },
  {
   "cell_type": "code",
   "execution_count": 2,
   "id": "1e5014ed",
   "metadata": {},
   "outputs": [],
   "source": [
    "def scaling(data):\n",
    "    data = (data - data.mean())/data.std()\n",
    "    return data"
   ]
  },
  {
   "cell_type": "code",
   "execution_count": 3,
   "id": "ae2f7d11",
   "metadata": {},
   "outputs": [],
   "source": [
    "def linear_regression(X,Y,LR,epochs):\n",
    "    m = len(X)\n",
    "    w = np.zeros(X.shape[1])\n",
    "    b = 0\n",
    "    costfunction = []\n",
    "    for i in range(epochs):\n",
    "        y_hat = np.dot(w, X.T) + b\n",
    "        error =round(y_hat - Y,8)\n",
    "        costfn = np.sum(round((error**2)/(2*m),5))\n",
    "        w_gradient =np.dot(X.T, error)/m           \n",
    "        b_gradient = np.sum(error/m) \n",
    "        w = w - LR*w_gradient\n",
    "        b = b - LR*b_gradient\n",
    "        costfunction.append((costfn))\n",
    "\n",
    "        if i%100 == 0:\n",
    "            print(f\"costfunction at {i}:\",round(costfn,5))\n",
    "    \n",
    "    plt.plot(range(epochs),costfunction)\n",
    "    plt.xlabel('Iterations')\n",
    "    plt.ylabel('Cost Function')\n",
    "    plt.show()\n",
    "    \n",
    "    return w,b,costfn\n"
   ]
  },
  {
   "cell_type": "code",
   "execution_count": 4,
   "id": "9b121650",
   "metadata": {},
   "outputs": [],
   "source": [
    "def checkaccuracy(w, b, X, Y):\n",
    "    erroravg = 0\n",
    "    m = len(X)\n",
    "    for i, row in X.iterrows():\n",
    "        y_hat = np.dot(w, row) + b\n",
    "        erroravg += np.absolute(round(y_hat - Y[i], 5))\n",
    "    avg_error = erroravg * 100 / m\n",
    "    accuracy = 100 - avg_error\n",
    "    return avg_error, accuracy"
   ]
  },
  {
   "cell_type": "code",
   "execution_count": 5,
   "id": "993c7b8e",
   "metadata": {},
   "outputs": [
    {
     "name": "stdout",
     "output_type": "stream",
     "text": [
      "costfunction at 0: 0.49951\n",
      "costfunction at 100: 0.12815\n",
      "costfunction at 200: 0.12365\n",
      "costfunction at 300: 0.12121\n",
      "costfunction at 400: 0.12005\n",
      "costfunction at 500: 0.11953\n",
      "costfunction at 600: 0.11926\n",
      "costfunction at 700: 0.11899\n",
      "costfunction at 800: 0.11889\n",
      "costfunction at 900: 0.11875\n"
     ]
    },
    {
     "data": {
      "image/png": "[encoded data removed]",
      "text/plain": [
       "<Figure size 640x480 with 1 Axes>"
      ]
     },
     "metadata": {},
     "output_type": "display_data"
    },
    {
     "name": "stdout",
     "output_type": "stream",
     "text": [
      "train error : 30.070451198630142 ||  test accuracy : 69.92954880136986\n",
      "test error : 29.85978424657536 ||  test accuracy : 70.14021575342464\n"
     ]
    }
   ],
   "source": [
    "train = pd.read_csv(\"train.csv\")\n",
    "Y_train = train[\"SalePrice\"]\n",
    "X_train = train.drop([\"SalePrice\"],axis = 1)\n",
    "X_train = scaling(X_train)\n",
    "Y_train = scaling(Y_train)\n",
    "\n",
    "test = pd.read_csv(\"test.csv\")\n",
    "Y_test = test[\"SalePrice\"]\n",
    "X_test= test.drop([\"SalePrice\"],axis = 1)\n",
    "X_test = scaling(X_test)\n",
    "Y_test = scaling(Y_test)\n",
    "\n",
    "w,b,costfn = linear_regression(X_train,Y_train,0.01,1000)\n",
    "train_error,train_accuracy = checkaccuracy(w,b,X_train,Y_train)\n",
    "test_error,test_accuracy = checkaccuracy(w,b,X_test,Y_test)\n",
    "print(f\"train error : {train_error} ||  test accuracy : {train_accuracy}\")\n",
    "print(f\"test error : {test_error} ||  test accuracy : {test_accuracy}\")\n",
    "\n"
   ]
  },
  {
   "cell_type": "code",
   "execution_count": null,
   "id": "8538f2ca",
   "metadata": {},
   "outputs": [],
   "source": []
  },
  {
   "cell_type": "code",
   "execution_count": null,
   "id": "92094f1c",
   "metadata": {},
   "outputs": [],
   "source": []
  }
 ],
 "metadata": {
  "kernelspec": {
   "display_name": "Python 3 (ipykernel)",
   "language": "python",
   "name": "python3"
  },
  "language_info": {
   "codemirror_mode": {
    "name": "ipython",
    "version": 3
   },
   "file_extension": ".py",
   "mimetype": "text/x-python",
   "name": "python",
   "nbconvert_exporter": "python",
   "pygments_lexer": "ipython3",
   "version": "3.11.3"
  }
 },
 "nbformat": 4,
 "nbformat_minor": 5
}
