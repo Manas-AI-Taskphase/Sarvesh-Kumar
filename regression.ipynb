import pandas as pd
import numpy as np
import matplotlib.pyplot as pl

data_train_df = pd.read_csv('train.csv')
X = data_train_df.drop(columns=['SalePrice'])

Y = data_train_df['SalePrice']

data_test_df = pd.read_csv('test.csv')

def rescaling(data):
    mean = data.mean()
    std = data.std()
    data = (data - mean)/std * 10
    return data

def scaling(data, mean, std):
    data = data*std/10 + mean
    return data

def linear_regression(w, b, data, LRate,final):
    m = len(data)

    w_gradient = 0
    b_gradient = 0
    y_found = list()
    costfn = 0

    for index, row in data.iterrows():
        y_hat = np.dot(w, row) + b
        y_actual = rescaling(data_train_df['SalePrice'])[index]
        error = round(y_hat - y_actual,5)
        costfn += round((error**2)/(2*m),8)

        w_gradient += round(error*row/m, 5)
        b_gradient += round(error/m, 5)
        if final == True:
            y_found.append(y_hat*Y.std()/10 + Y.mean())

    w = round(w - LRate*w_gradient,8)
    b = round(b - LRate*b_gradient,8)
    return w, b, costfn, y_found

def CheckAccuracy(w, b, data):
    x = data.drop(columns=['SalePrice'])
    x = (x - X.mean())/X.std() * 10
    y = data['SalePrice']
    y = (y - Y.mean())/Y.std() * 10
    score = 0
    for index, row in x.iterrows():
        y_hat = np.dot(w, row) + b
        if y_hat == y[index]:
            score += 1
    score = score*100/len(data)
    return score


X = rescaling(X)

w = np.zeros(X.shape[1])
b = 0
costfn = list()
for i in range(500):
    if i%50 == 0:
        print(i)
    if i==499:
        f = True
    else:
        f = False
    w,b,c,y_found = linear_regression(w,b, X, 0.0001,f)

    costfn.append(c)
#pl.scatter(y_found,range(1,len(data_train_df)+1), marker='x', c='r')
#l.scatter(Y,range(1,len(data_train_df)+1))
#print(Y)
#pl.show()
y_found = y_found*Y.std()/10 + Y.mean()

pl.plot(range(1,501),costfn)

print(w)
print()
print(b)

score = CheckAccuracy(w, b, data_test_df)
print(score)

pl.show()
