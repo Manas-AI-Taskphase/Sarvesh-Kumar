{
 "cells": [
  {
   "cell_type": "code",
   "execution_count": 3,
   "id": "3535e4bb",
   "metadata": {},
   "outputs": [],
   "source": [
    "import cv2 \n",
    "\n",
    "\n",
    "ball_cascade = cv2.CascadeClassifier('ball.xml')\n",
    "backSub = cv2.createBackgroundSubtractorMOG2()\n",
    "\n",
    "\n",
    "cap = cv2.VideoCapture('volleyball_match.mp4')\n",
    "\n",
    "while True:\n",
    "    ret, frame = cap.read()\n",
    "    fgmask = backSub.apply(frame)\n",
    "    if frame is None:\n",
    "        break\n",
    "    gray = cv2.cvtColor(frame, cv2.COLOR_BGR2GRAY)\n",
    "    balls = ball_cascade.detectMultiScale(gray, scaleFactor=1.1, minNeighbors=5,minSize = (30,30),maxSize = (35,35))\n",
    "\n",
    "    for (x, y, w, h) in balls:\n",
    "        cv2.rectangle(frame, (x, y), (x+w, y+h), (0, 255, 0), 2)\n",
    "        cv2.putText(frame, 'Volleyball', (x + w // 2,y),cv2.FONT_HERSHEY_SIMPLEX, 0.5, (120, 255, 0), 2)\n",
    "\n",
    "        \n",
    "    cv2.imshow('Volleyball Detection', frame)\n",
    "    keyboard = cv2.waitKey(30)\n",
    "    if keyboard == ord('q') or keyboard == 27:\n",
    "        break\n",
    "\n",
    "# Release resources\n",
    "cap.release()\n",
    "cv2.destroyAllWindows()"
   ]
  },
  {
   "cell_type": "code",
   "execution_count": null,
   "id": "0595583c",
   "metadata": {},
   "outputs": [],
   "source": [
    "\n",
    "    "
   ]
  },
  {
   "cell_type": "code",
   "execution_count": null,
   "id": "734afe70",
   "metadata": {},
   "outputs": [],
   "source": []
  }
 ],
 "metadata": {
  "kernelspec": {
   "display_name": "Python 3 (ipykernel)",
   "language": "python",
   "name": "python3"
  },
  "language_info": {
   "codemirror_mode": {
    "name": "ipython",
    "version": 3
   },
   "file_extension": ".py",
   "mimetype": "text/x-python",
   "name": "python",
   "nbconvert_exporter": "python",
   "pygments_lexer": "ipython3",
   "version": "3.11.3"
  }
 },
 "nbformat": 4,
 "nbformat_minor": 5
}
