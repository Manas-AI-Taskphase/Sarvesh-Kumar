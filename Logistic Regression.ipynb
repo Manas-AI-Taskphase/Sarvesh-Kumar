{
 "cells": [
  {
   "cell_type": "code",
   "execution_count": 20,
   "id": "76496dd1",
   "metadata": {},
   "outputs": [],
   "source": [
    "def processing_scaling(X):\n",
    "    Y =X[\"Survived\"]\n",
    "    X = X.drop([\"Name\",\"Survived\"],axis =1)\n",
    "    X[\"Sex\"]=(X[\"Sex\"].replace(\"female\",1)).replace(\"male\",0)\n",
    "    X = (X - X.mean())/X.std()\n",
    "    return X,Y\n",
    "    "
   ]
  },
  {
   "cell_type": "code",
   "execution_count": 21,
   "id": "d90769e7",
   "metadata": {
    "scrolled": true
   },
   "outputs": [],
   "source": [
    "#gradient descent and logistic regression\n",
    "def gd(X,y,epochs):\n",
    "    \n",
    "    X = np.insert(X.values,0,1,axis=1)#adding b as column of 1's to the w matrix\n",
    "    weights = np.ones(X.shape[1])\n",
    "    lr = 0.5\n",
    "    loss_function= []\n",
    "    \n",
    "    for i in range(epochs):\n",
    "        y_hat = sigmoid(np.dot(X,weights))\n",
    "        loss = (-y*(np.log(y_hat)) - (1 - y)*(np.log(1-y_hat))).mean() \n",
    "        loss_function.append(loss)\n",
    "        weights = weights + lr*np.dot((y-y_hat),X)/X.shape[0]\n",
    "        \n",
    "    return weights[1:],weights[0],loss_function\n"
   ]
  },
  {
   "cell_type": "code",
   "execution_count": 22,
   "id": "bba74b0e",
   "metadata": {},
   "outputs": [],
   "source": [
    "#defining sigmoid function\n",
    "def sigmoid(z):\n",
    "    return 1/(1 + np.exp(-z))\n"
   ]
  },
  {
   "cell_type": "code",
   "execution_count": 25,
   "id": "98b78843",
   "metadata": {},
   "outputs": [],
   "source": [
    "def accuracy(X,Y,w,b):\n",
    "    Z = np.dot(X,w) + b\n",
    "    prediction = sigmoid(Z)\n",
    "\n",
    "    for i in range(test.shape[0]):\n",
    "        if prediction[i] >= 0.5:\n",
    "            prediction[i] = 1\n",
    "        else:\n",
    "            prediction[i] = 0\n",
    "\n",
    "    correct_prediction = 0\n",
    "    for i in range(Y_test.shape[0]): \n",
    "        if Y_test[i] == prediction[i]:\n",
    "            correct_prediction += 1\n",
    "    accuracy = correct_prediction*100/(Y_test.shape[0]) \n",
    "    return accuracy\n",
    "\n"
   ]
  },
  {
   "cell_type": "code",
   "execution_count": 31,
   "id": "d8f43d28",
   "metadata": {},
   "outputs": [
    {
     "name": "stdout",
     "output_type": "stream",
     "text": [
      "Number of Iterations:100\n",
      "the weights w are:- [-0.71206466  1.29376085 -0.47201427 -0.45539777 -0.03224178  0.07359563]\n",
      "the weight b is :- -0.5540913623623747\n"
     ]
    },
    {
     "data": {
      "image/png": "[encoded data removed]",
      "text/plain": [
       "<Figure size 640x480 with 1 Axes>"
      ]
     },
     "metadata": {},
     "output_type": "display_data"
    },
    {
     "name": "stdout",
     "output_type": "stream",
     "text": [
      "train accuracy : 54.193548387096776\n",
      "test accuracy : 80.96774193548387\n"
     ]
    }
   ],
   "source": [
    "\n",
    "import pandas as pd\n",
    "import matplotlib.pyplot as plt\n",
    "import numpy as np\n",
    "import math\n",
    "\n",
    "\n",
    "train = pd.read_csv(\"trainlogisticregression.csv\")\n",
    "test = pd.read_csv(\"testlogisticregression.csv\")\n",
    "X_train,Y_train = processing_scaling(train)\n",
    "X_test,Y_test = processing_scaling(test)\n",
    "epochs = int(input(\"Number of Iterations:\"))\n",
    "w,b,costfunction = gd(X_train,Y_train,epochs)\n",
    "print(\"the weights w are:-\" , w)\n",
    "print(\"the weight b is :-\", b)\n",
    "\n",
    "#plotting loss function vs epochs graph\n",
    "plt.plot(range(epochs), costfunction)\n",
    "plt.xlabel(\"Epochs\")\n",
    "plt.ylabel(\"Loss Function\")\n",
    "plt.show()\n",
    "\n",
    "\n",
    "#checking accuracy of model with train and test data\n",
    "train_accuracy = accuracy(X_train,Y_train,w,b)\n",
    "test_accuracy = accuracy(X_test,Y_test,w,b)\n",
    "\n",
    "print(f\"train accuracy : {train_accuracy}\")\n",
    "print(f\"test accuracy : {test_accuracy}\")"
   ]
  },
  {
   "cell_type": "code",
   "execution_count": null,
   "id": "ef3594e9",
   "metadata": {},
   "outputs": [],
   "source": []
  },
  {
   "cell_type": "code",
   "execution_count": null,
   "id": "fed5771d",
   "metadata": {},
   "outputs": [],
   "source": []
  }
 ],
 "metadata": {
  "kernelspec": {
   "display_name": "Python 3 (ipykernel)",
   "language": "python",
   "name": "python3"
  },
  "language_info": {
   "codemirror_mode": {
    "name": "ipython",
    "version": 3
   },
   "file_extension": ".py",
   "mimetype": "text/x-python",
   "name": "python",
   "nbconvert_exporter": "python",
   "pygments_lexer": "ipython3",
   "version": "3.11.3"
  }
 },
 "nbformat": 4,
 "nbformat_minor": 5
}
